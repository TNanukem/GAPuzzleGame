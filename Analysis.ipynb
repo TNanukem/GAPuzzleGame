{
 "cells": [
  {
   "cell_type": "code",
   "execution_count": 8,
   "metadata": {
    "execution": {
     "iopub.execute_input": "2020-07-07T10:55:12.562923Z",
     "iopub.status.busy": "2020-07-07T10:55:12.562548Z",
     "iopub.status.idle": "2020-07-07T10:55:12.568434Z",
     "shell.execute_reply": "2020-07-07T10:55:12.566887Z",
     "shell.execute_reply.started": "2020-07-07T10:55:12.562889Z"
    }
   },
   "outputs": [],
   "source": [
    "import subprocess\n",
    "import numpy as np\n",
    "import pandas as pd\n",
    "import matplotlib.pyplot as plt"
   ]
  },
  {
   "cell_type": "code",
   "execution_count": 18,
   "metadata": {
    "execution": {
     "iopub.execute_input": "2020-07-07T10:57:21.102315Z",
     "iopub.status.busy": "2020-07-07T10:57:21.101879Z",
     "iopub.status.idle": "2020-07-07T10:57:21.114923Z",
     "shell.execute_reply": "2020-07-07T10:57:21.112816Z",
     "shell.execute_reply.started": "2020-07-07T10:57:21.102271Z"
    }
   },
   "outputs": [],
   "source": [
    "results = pd.read_csv('results.txt', sep=' ').iloc[:, :3]\n",
    "results.columns = ['generation', 'avg_fitness', 'max_fitness']"
   ]
  },
  {
   "cell_type": "code",
   "execution_count": 23,
   "metadata": {
    "execution": {
     "iopub.execute_input": "2020-07-07T10:58:09.190297Z",
     "iopub.status.busy": "2020-07-07T10:58:09.189906Z",
     "iopub.status.idle": "2020-07-07T10:58:09.196604Z",
     "shell.execute_reply": "2020-07-07T10:58:09.195471Z",
     "shell.execute_reply.started": "2020-07-07T10:58:09.190261Z"
    }
   },
   "outputs": [
    {
     "data": {
      "text/plain": [
       "58.0"
      ]
     },
     "execution_count": 23,
     "metadata": {},
     "output_type": "execute_result"
    }
   ],
   "source": [
    "n_mov = results.iloc[-1, 1]\n",
    "n_mov"
   ]
  },
  {
   "cell_type": "code",
   "execution_count": 27,
   "metadata": {
    "execution": {
     "iopub.execute_input": "2020-07-07T11:16:37.989896Z",
     "iopub.status.busy": "2020-07-07T11:16:37.988932Z",
     "iopub.status.idle": "2020-07-07T11:16:44.311544Z",
     "shell.execute_reply": "2020-07-07T11:16:44.310010Z",
     "shell.execute_reply.started": "2020-07-07T11:16:37.989834Z"
    }
   },
   "outputs": [
    {
     "name": "stdout",
     "output_type": "stream",
     "text": [
      "./main puzzles/puzzle1.txt 10 2 0.01 0\n",
      "./main puzzles/puzzle1.txt 100 2 0.01 0\n",
      "./main puzzles/puzzle1.txt 500 2 0.01 0\n",
      "./main puzzles/puzzle1.txt 1000 2 0.01 0\n",
      "./main puzzles/puzzle1.txt 5000 2 0.01 0\n"
     ]
    },
    {
     "data": {
      "text/html": [
       "<div>\n",
       "<style scoped>\n",
       "    .dataframe tbody tr th:only-of-type {\n",
       "        vertical-align: middle;\n",
       "    }\n",
       "\n",
       "    .dataframe tbody tr th {\n",
       "        vertical-align: top;\n",
       "    }\n",
       "\n",
       "    .dataframe thead th {\n",
       "        text-align: right;\n",
       "    }\n",
       "</style>\n",
       "<table border=\"1\" class=\"dataframe\">\n",
       "  <thead>\n",
       "    <tr style=\"text-align: right;\">\n",
       "      <th></th>\n",
       "      <th>avg_fitness</th>\n",
       "      <th>choromosome_size</th>\n",
       "      <th>crossover_prob</th>\n",
       "      <th>max_fitness</th>\n",
       "      <th>mutation_prop</th>\n",
       "      <th>n_generations</th>\n",
       "      <th>n_steps</th>\n",
       "      <th>pop_size</th>\n",
       "    </tr>\n",
       "  </thead>\n",
       "  <tbody>\n",
       "    <tr>\n",
       "      <th>0</th>\n",
       "      <td>[0.0625, 0.059000000000000004, 0.0603, 0.0608,...</td>\n",
       "      <td>2.0</td>\n",
       "      <td>0.01</td>\n",
       "      <td>[0.0625, 0.0625, 0.0714, 0.0833, 0.0714, 0.071...</td>\n",
       "      <td>0.0</td>\n",
       "      <td>50.0</td>\n",
       "      <td>50.0</td>\n",
       "      <td>10.0</td>\n",
       "    </tr>\n",
       "    <tr>\n",
       "      <th>1</th>\n",
       "      <td>[0.0625, 0.0576, 0.0575, 0.0584, 0.0611, 0.065...</td>\n",
       "      <td>2.0</td>\n",
       "      <td>0.01</td>\n",
       "      <td>[0.0625, 0.0625, 0.0714, 0.0833, 0.0714, 0.083...</td>\n",
       "      <td>0.0</td>\n",
       "      <td>42.0</td>\n",
       "      <td>42.0</td>\n",
       "      <td>100.0</td>\n",
       "    </tr>\n",
       "    <tr>\n",
       "      <th>2</th>\n",
       "      <td>[0.0625, 0.0572, 0.057, 0.0591, 0.0618, 0.0646...</td>\n",
       "      <td>2.0</td>\n",
       "      <td>0.01</td>\n",
       "      <td>[0.0625, 0.0625, 0.0714, 0.0833, 0.0714, 0.083...</td>\n",
       "      <td>0.0</td>\n",
       "      <td>24.0</td>\n",
       "      <td>24.0</td>\n",
       "      <td>500.0</td>\n",
       "    </tr>\n",
       "    <tr>\n",
       "      <th>3</th>\n",
       "      <td>[0.0625, 0.0573, 0.0569, 0.059000000000000004,...</td>\n",
       "      <td>2.0</td>\n",
       "      <td>0.01</td>\n",
       "      <td>[0.0625, 0.0625, 0.0714, 0.0833, 0.0714, 0.083...</td>\n",
       "      <td>0.0</td>\n",
       "      <td>18.0</td>\n",
       "      <td>18.0</td>\n",
       "      <td>1000.0</td>\n",
       "    </tr>\n",
       "    <tr>\n",
       "      <th>4</th>\n",
       "      <td>[0.0625, 0.0573, 0.0571, 0.0597, 0.062, 0.0648...</td>\n",
       "      <td>2.0</td>\n",
       "      <td>0.01</td>\n",
       "      <td>[0.0625, 0.0625, 0.0714, 0.0833, 0.0714, 0.083...</td>\n",
       "      <td>0.0</td>\n",
       "      <td>18.0</td>\n",
       "      <td>18.0</td>\n",
       "      <td>5000.0</td>\n",
       "    </tr>\n",
       "  </tbody>\n",
       "</table>\n",
       "</div>"
      ],
      "text/plain": [
       "                                         avg_fitness  choromosome_size  \\\n",
       "0  [0.0625, 0.059000000000000004, 0.0603, 0.0608,...               2.0   \n",
       "1  [0.0625, 0.0576, 0.0575, 0.0584, 0.0611, 0.065...               2.0   \n",
       "2  [0.0625, 0.0572, 0.057, 0.0591, 0.0618, 0.0646...               2.0   \n",
       "3  [0.0625, 0.0573, 0.0569, 0.059000000000000004,...               2.0   \n",
       "4  [0.0625, 0.0573, 0.0571, 0.0597, 0.062, 0.0648...               2.0   \n",
       "\n",
       "   crossover_prob                                        max_fitness  \\\n",
       "0            0.01  [0.0625, 0.0625, 0.0714, 0.0833, 0.0714, 0.071...   \n",
       "1            0.01  [0.0625, 0.0625, 0.0714, 0.0833, 0.0714, 0.083...   \n",
       "2            0.01  [0.0625, 0.0625, 0.0714, 0.0833, 0.0714, 0.083...   \n",
       "3            0.01  [0.0625, 0.0625, 0.0714, 0.0833, 0.0714, 0.083...   \n",
       "4            0.01  [0.0625, 0.0625, 0.0714, 0.0833, 0.0714, 0.083...   \n",
       "\n",
       "   mutation_prop  n_generations  n_steps  pop_size  \n",
       "0            0.0           50.0     50.0      10.0  \n",
       "1            0.0           42.0     42.0     100.0  \n",
       "2            0.0           24.0     24.0     500.0  \n",
       "3            0.0           18.0     18.0    1000.0  \n",
       "4            0.0           18.0     18.0    5000.0  "
      ]
     },
     "execution_count": 27,
     "metadata": {},
     "output_type": "execute_result"
    }
   ],
   "source": [
    "initial_pop = [10, 100, 500, 1000, 5000]\n",
    "initial_chromosome = [2, 4, 8, 12, 16, 32]\n",
    "mutation_prob = [0, 0.01, 0.04, 0.1, 0.2]\n",
    "crossover_prob = [0.01, 0.04, 0.1, 0.2]\n",
    "\n",
    "final_df = pd.DataFrame()\n",
    "\n",
    "for pop in initial_pop:\n",
    "    for chrom in initial_chromosome:\n",
    "        for mutation in mutation_prob:\n",
    "            for crossover in crossover_prob:\n",
    "                exec = './main puzzles/puzzle1.txt {} {} {} {}'.format(pop, chrom, crossover, mutation)\n",
    "                print(exec)\n",
    "                a = subprocess.getoutput(exec)\n",
    "                \n",
    "                results = pd.read_csv('results.txt', sep=' ').iloc[:, :3]\n",
    "                results.columns = ['generation', 'avg_fitness', 'max_fitness']\n",
    "                \n",
    "                final_df = final_df.append({'n_steps': results.iloc[-1, 1], 'n_generations': len(results)-1, 'pop_size': pop, \n",
    "                                'choromosome_size': chrom, 'mutation_prop': mutation, 'crossover_prob': crossover,\n",
    "                                'avg_fitness': list(results['avg_fitness']), 'max_fitness': list(results['max_fitness'])}, \n",
    "                                ignore_index=True)\n",
    "                \n",
    "                break\n",
    "            break\n",
    "        break\n",
    "final_df"
   ]
  },
  {
   "cell_type": "code",
   "execution_count": null,
   "metadata": {},
   "outputs": [],
   "source": [
    "final"
   ]
  }
 ],
 "metadata": {
  "kernelspec": {
   "display_name": "Python 3",
   "language": "python",
   "name": "python3"
  },
  "language_info": {
   "codemirror_mode": {
    "name": "ipython",
    "version": 3
   },
   "file_extension": ".py",
   "mimetype": "text/x-python",
   "name": "python",
   "nbconvert_exporter": "python",
   "pygments_lexer": "ipython3",
   "version": "3.8.2"
  }
 },
 "nbformat": 4,
 "nbformat_minor": 4
}
