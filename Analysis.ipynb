{
 "cells": [
  {
   "cell_type": "code",
   "execution_count": 11,
   "metadata": {
    "execution": {
     "iopub.execute_input": "2020-07-08T10:30:23.756179Z",
     "iopub.status.busy": "2020-07-08T10:30:23.755785Z",
     "iopub.status.idle": "2020-07-08T10:30:23.764185Z",
     "shell.execute_reply": "2020-07-08T10:30:23.763071Z",
     "shell.execute_reply.started": "2020-07-08T10:30:23.756143Z"
    }
   },
   "outputs": [],
   "source": [
    "import time\n",
    "import subprocess\n",
    "import numpy as np\n",
    "import pandas as pd\n",
    "import matplotlib.pyplot as plt"
   ]
  },
  {
   "cell_type": "code",
   "execution_count": 14,
   "metadata": {
    "execution": {
     "iopub.execute_input": "2020-07-08T10:46:46.782346Z",
     "iopub.status.busy": "2020-07-08T10:46:46.781859Z",
     "iopub.status.idle": "2020-07-08T10:50:14.403132Z",
     "shell.execute_reply": "2020-07-08T10:50:14.399052Z",
     "shell.execute_reply.started": "2020-07-08T10:46:46.782277Z"
    }
   },
   "outputs": [
    {
     "name": "stdout",
     "output_type": "stream",
     "text": [
      "./main puzzles/puzzle1.txt 10 4 0.01 0.001\n",
      "./main puzzles/puzzle3.txt 10 4 0.01 0.001\n",
      "./main puzzles/puzzle4.txt 10 4 0.01 0.001\n",
      "./main puzzles/puzzle5.txt 10 4 0.01 0.001\n",
      "./main puzzles/puzzle6.txt 10 4 0.01 0.001\n",
      "./main puzzles/puzzle7.txt 10 4 0.01 0.001\n",
      "./main puzzles/puzzle8.txt 10 4 0.01 0.001\n",
      "./main puzzles/puzzle9.txt 10 4 0.01 0.001\n",
      "./main puzzles/puzzle10.txt 10 4 0.01 0.001\n",
      "./main puzzles/puzzle11.txt 10 4 0.01 0.001\n",
      "./main puzzles/puzzle12.txt 10 4 0.01 0.001\n",
      "./main puzzles/puzzle13.txt 10 4 0.01 0.001\n",
      "./main puzzles/puzzle14.txt 10 4 0.01 0.001\n",
      "./main puzzles/puzzle15.txt 10 4 0.01 0.001\n",
      "./main puzzles/puzzle16.txt 10 4 0.01 0.001\n",
      "./main puzzles/puzzle17.txt 10 4 0.01 0.001\n",
      "./main puzzles/puzzle18.txt 10 4 0.01 0.001\n",
      "./main puzzles/puzzle19.txt 10 4 0.01 0.001\n",
      "./main puzzles/puzzle20.txt 10 4 0.01 0.001\n",
      "./main puzzles/puzzle1.txt 10 4 0.01 0.001\n",
      "./main puzzles/puzzle3.txt 10 4 0.01 0.001\n",
      "./main puzzles/puzzle4.txt 10 4 0.01 0.001\n"
     ]
    },
    {
     "ename": "KeyboardInterrupt",
     "evalue": "",
     "output_type": "error",
     "traceback": [
      "\u001b[0;31m---------------------------------------------------------------------------\u001b[0m",
      "\u001b[0;31mKeyboardInterrupt\u001b[0m                         Traceback (most recent call last)",
      "\u001b[0;32m<ipython-input-14-6dbbc53ffb15>\u001b[0m in \u001b[0;36m<module>\u001b[0;34m\u001b[0m\n\u001b[1;32m     17\u001b[0m \u001b[0;34m\u001b[0m\u001b[0m\n\u001b[1;32m     18\u001b[0m                         \u001b[0mstart\u001b[0m \u001b[0;34m=\u001b[0m \u001b[0mtime\u001b[0m\u001b[0;34m.\u001b[0m\u001b[0mtime\u001b[0m\u001b[0;34m(\u001b[0m\u001b[0;34m)\u001b[0m\u001b[0;34m\u001b[0m\u001b[0;34m\u001b[0m\u001b[0m\n\u001b[0;32m---> 19\u001b[0;31m                         \u001b[0ma\u001b[0m \u001b[0;34m=\u001b[0m \u001b[0msubprocess\u001b[0m\u001b[0;34m.\u001b[0m\u001b[0mgetoutput\u001b[0m\u001b[0;34m(\u001b[0m\u001b[0mexec\u001b[0m\u001b[0;34m)\u001b[0m\u001b[0;34m\u001b[0m\u001b[0;34m\u001b[0m\u001b[0m\n\u001b[0m\u001b[1;32m     20\u001b[0m                         \u001b[0mend\u001b[0m \u001b[0;34m=\u001b[0m \u001b[0mtime\u001b[0m\u001b[0;34m.\u001b[0m\u001b[0mtime\u001b[0m\u001b[0;34m(\u001b[0m\u001b[0;34m)\u001b[0m\u001b[0;34m\u001b[0m\u001b[0;34m\u001b[0m\u001b[0m\n\u001b[1;32m     21\u001b[0m \u001b[0;34m\u001b[0m\u001b[0m\n",
      "\u001b[0;32m/usr/lib/python3.8/subprocess.py\u001b[0m in \u001b[0;36mgetoutput\u001b[0;34m(cmd)\u001b[0m\n\u001b[1;32m    629\u001b[0m     \u001b[0;34m'/bin/ls'\u001b[0m\u001b[0;34m\u001b[0m\u001b[0;34m\u001b[0m\u001b[0m\n\u001b[1;32m    630\u001b[0m     \"\"\"\n\u001b[0;32m--> 631\u001b[0;31m     \u001b[0;32mreturn\u001b[0m \u001b[0mgetstatusoutput\u001b[0m\u001b[0;34m(\u001b[0m\u001b[0mcmd\u001b[0m\u001b[0;34m)\u001b[0m\u001b[0;34m[\u001b[0m\u001b[0;36m1\u001b[0m\u001b[0;34m]\u001b[0m\u001b[0;34m\u001b[0m\u001b[0;34m\u001b[0m\u001b[0m\n\u001b[0m\u001b[1;32m    632\u001b[0m \u001b[0;34m\u001b[0m\u001b[0m\n\u001b[1;32m    633\u001b[0m \u001b[0;34m\u001b[0m\u001b[0m\n",
      "\u001b[0;32m/usr/lib/python3.8/subprocess.py\u001b[0m in \u001b[0;36mgetstatusoutput\u001b[0;34m(cmd)\u001b[0m\n\u001b[1;32m    610\u001b[0m     \"\"\"\n\u001b[1;32m    611\u001b[0m     \u001b[0;32mtry\u001b[0m\u001b[0;34m:\u001b[0m\u001b[0;34m\u001b[0m\u001b[0;34m\u001b[0m\u001b[0m\n\u001b[0;32m--> 612\u001b[0;31m         \u001b[0mdata\u001b[0m \u001b[0;34m=\u001b[0m \u001b[0mcheck_output\u001b[0m\u001b[0;34m(\u001b[0m\u001b[0mcmd\u001b[0m\u001b[0;34m,\u001b[0m \u001b[0mshell\u001b[0m\u001b[0;34m=\u001b[0m\u001b[0;32mTrue\u001b[0m\u001b[0;34m,\u001b[0m \u001b[0mtext\u001b[0m\u001b[0;34m=\u001b[0m\u001b[0;32mTrue\u001b[0m\u001b[0;34m,\u001b[0m \u001b[0mstderr\u001b[0m\u001b[0;34m=\u001b[0m\u001b[0mSTDOUT\u001b[0m\u001b[0;34m)\u001b[0m\u001b[0;34m\u001b[0m\u001b[0;34m\u001b[0m\u001b[0m\n\u001b[0m\u001b[1;32m    613\u001b[0m         \u001b[0mexitcode\u001b[0m \u001b[0;34m=\u001b[0m \u001b[0;36m0\u001b[0m\u001b[0;34m\u001b[0m\u001b[0;34m\u001b[0m\u001b[0m\n\u001b[1;32m    614\u001b[0m     \u001b[0;32mexcept\u001b[0m \u001b[0mCalledProcessError\u001b[0m \u001b[0;32mas\u001b[0m \u001b[0mex\u001b[0m\u001b[0;34m:\u001b[0m\u001b[0;34m\u001b[0m\u001b[0;34m\u001b[0m\u001b[0m\n",
      "\u001b[0;32m/usr/lib/python3.8/subprocess.py\u001b[0m in \u001b[0;36mcheck_output\u001b[0;34m(timeout, *popenargs, **kwargs)\u001b[0m\n\u001b[1;32m    409\u001b[0m         \u001b[0mkwargs\u001b[0m\u001b[0;34m[\u001b[0m\u001b[0;34m'input'\u001b[0m\u001b[0;34m]\u001b[0m \u001b[0;34m=\u001b[0m \u001b[0;34m''\u001b[0m \u001b[0;32mif\u001b[0m \u001b[0mkwargs\u001b[0m\u001b[0;34m.\u001b[0m\u001b[0mget\u001b[0m\u001b[0;34m(\u001b[0m\u001b[0;34m'universal_newlines'\u001b[0m\u001b[0;34m,\u001b[0m \u001b[0;32mFalse\u001b[0m\u001b[0;34m)\u001b[0m \u001b[0;32melse\u001b[0m \u001b[0;34mb''\u001b[0m\u001b[0;34m\u001b[0m\u001b[0;34m\u001b[0m\u001b[0m\n\u001b[1;32m    410\u001b[0m \u001b[0;34m\u001b[0m\u001b[0m\n\u001b[0;32m--> 411\u001b[0;31m     return run(*popenargs, stdout=PIPE, timeout=timeout, check=True,\n\u001b[0m\u001b[1;32m    412\u001b[0m                **kwargs).stdout\n\u001b[1;32m    413\u001b[0m \u001b[0;34m\u001b[0m\u001b[0m\n",
      "\u001b[0;32m/usr/lib/python3.8/subprocess.py\u001b[0m in \u001b[0;36mrun\u001b[0;34m(input, capture_output, timeout, check, *popenargs, **kwargs)\u001b[0m\n\u001b[1;32m    489\u001b[0m     \u001b[0;32mwith\u001b[0m \u001b[0mPopen\u001b[0m\u001b[0;34m(\u001b[0m\u001b[0;34m*\u001b[0m\u001b[0mpopenargs\u001b[0m\u001b[0;34m,\u001b[0m \u001b[0;34m**\u001b[0m\u001b[0mkwargs\u001b[0m\u001b[0;34m)\u001b[0m \u001b[0;32mas\u001b[0m \u001b[0mprocess\u001b[0m\u001b[0;34m:\u001b[0m\u001b[0;34m\u001b[0m\u001b[0;34m\u001b[0m\u001b[0m\n\u001b[1;32m    490\u001b[0m         \u001b[0;32mtry\u001b[0m\u001b[0;34m:\u001b[0m\u001b[0;34m\u001b[0m\u001b[0;34m\u001b[0m\u001b[0m\n\u001b[0;32m--> 491\u001b[0;31m             \u001b[0mstdout\u001b[0m\u001b[0;34m,\u001b[0m \u001b[0mstderr\u001b[0m \u001b[0;34m=\u001b[0m \u001b[0mprocess\u001b[0m\u001b[0;34m.\u001b[0m\u001b[0mcommunicate\u001b[0m\u001b[0;34m(\u001b[0m\u001b[0minput\u001b[0m\u001b[0;34m,\u001b[0m \u001b[0mtimeout\u001b[0m\u001b[0;34m=\u001b[0m\u001b[0mtimeout\u001b[0m\u001b[0;34m)\u001b[0m\u001b[0;34m\u001b[0m\u001b[0;34m\u001b[0m\u001b[0m\n\u001b[0m\u001b[1;32m    492\u001b[0m         \u001b[0;32mexcept\u001b[0m \u001b[0mTimeoutExpired\u001b[0m \u001b[0;32mas\u001b[0m \u001b[0mexc\u001b[0m\u001b[0;34m:\u001b[0m\u001b[0;34m\u001b[0m\u001b[0;34m\u001b[0m\u001b[0m\n\u001b[1;32m    493\u001b[0m             \u001b[0mprocess\u001b[0m\u001b[0;34m.\u001b[0m\u001b[0mkill\u001b[0m\u001b[0;34m(\u001b[0m\u001b[0;34m)\u001b[0m\u001b[0;34m\u001b[0m\u001b[0;34m\u001b[0m\u001b[0m\n",
      "\u001b[0;32m/usr/lib/python3.8/subprocess.py\u001b[0m in \u001b[0;36mcommunicate\u001b[0;34m(self, input, timeout)\u001b[0m\n\u001b[1;32m   1009\u001b[0m                 \u001b[0mself\u001b[0m\u001b[0;34m.\u001b[0m\u001b[0m_stdin_write\u001b[0m\u001b[0;34m(\u001b[0m\u001b[0minput\u001b[0m\u001b[0;34m)\u001b[0m\u001b[0;34m\u001b[0m\u001b[0;34m\u001b[0m\u001b[0m\n\u001b[1;32m   1010\u001b[0m             \u001b[0;32melif\u001b[0m \u001b[0mself\u001b[0m\u001b[0;34m.\u001b[0m\u001b[0mstdout\u001b[0m\u001b[0;34m:\u001b[0m\u001b[0;34m\u001b[0m\u001b[0;34m\u001b[0m\u001b[0m\n\u001b[0;32m-> 1011\u001b[0;31m                 \u001b[0mstdout\u001b[0m \u001b[0;34m=\u001b[0m \u001b[0mself\u001b[0m\u001b[0;34m.\u001b[0m\u001b[0mstdout\u001b[0m\u001b[0;34m.\u001b[0m\u001b[0mread\u001b[0m\u001b[0;34m(\u001b[0m\u001b[0;34m)\u001b[0m\u001b[0;34m\u001b[0m\u001b[0;34m\u001b[0m\u001b[0m\n\u001b[0m\u001b[1;32m   1012\u001b[0m                 \u001b[0mself\u001b[0m\u001b[0;34m.\u001b[0m\u001b[0mstdout\u001b[0m\u001b[0;34m.\u001b[0m\u001b[0mclose\u001b[0m\u001b[0;34m(\u001b[0m\u001b[0;34m)\u001b[0m\u001b[0;34m\u001b[0m\u001b[0;34m\u001b[0m\u001b[0m\n\u001b[1;32m   1013\u001b[0m             \u001b[0;32melif\u001b[0m \u001b[0mself\u001b[0m\u001b[0;34m.\u001b[0m\u001b[0mstderr\u001b[0m\u001b[0;34m:\u001b[0m\u001b[0;34m\u001b[0m\u001b[0;34m\u001b[0m\u001b[0m\n",
      "\u001b[0;31mKeyboardInterrupt\u001b[0m: "
     ]
    }
   ],
   "source": [
    "initial_pop = [10, 50, 100, 500, 1000, 5000]\n",
    "initial_chromosome = [4, 8, 16, 32]\n",
    "mutation_prob = [0.001, 0.004, 0.01, 0.02, 0.1]\n",
    "crossover_prob = [0.01, 0.04, 0.1, 0.2]\n",
    "puzzles = [1] + [i for i in range(3,21)]\n",
    "\n",
    "final_df = pd.DataFrame()\n",
    "\n",
    "for pop in initial_pop:\n",
    "    for chrom in initial_chromosome:\n",
    "        for mutation in mutation_prob:\n",
    "            for crossover in crossover_prob:\n",
    "                for rept in range(0,5):\n",
    "                    for puzzle in puzzles:\n",
    "                        exec = './main puzzles/puzzle{}.txt {} {} {} {}'.format(puzzle, pop, chrom, crossover, mutation)\n",
    "                        print(exec)\n",
    "\n",
    "                        start = time.time()\n",
    "                        a = subprocess.getoutput(exec)\n",
    "                        end = time.time()\n",
    "\n",
    "                        results = pd.read_csv('results.txt', sep=' ').iloc[:, :3]\n",
    "                        results.columns = ['generation', 'avg_fitness', 'max_fitness']\n",
    "                        final_df = final_df.append({'n_steps': results.iloc[-1, 1], 'n_generations': len(results)-1, 'pop_size': pop, \n",
    "                                        'choromosome_size': chrom, 'mutation_prob': mutation, 'crossover_prob': crossover,\n",
    "                                        'avg_fitness': list(results['avg_fitness']), 'max_fitness': list(results['max_fitness']), \n",
    "                                        'time': end-start, 'puzzle': puzzle}, ignore_index=True)\n",
    "final_df"
   ]
  },
  {
   "cell_type": "code",
   "execution_count": null,
   "metadata": {
    "execution": {
     "iopub.status.busy": "2020-07-08T10:45:27.506386Z",
     "iopub.status.idle": "2020-07-08T10:45:27.508290Z"
    }
   },
   "outputs": [],
   "source": [
    "final_df.to_csv('final_df_with_time.csv', sep=';', index=False)"
   ]
  },
  {
   "cell_type": "markdown",
   "metadata": {},
   "source": [
    "# Analysis"
   ]
  },
  {
   "cell_type": "code",
   "execution_count": 5,
   "metadata": {
    "execution": {
     "iopub.execute_input": "2020-07-08T10:23:12.738401Z",
     "iopub.status.busy": "2020-07-08T10:23:12.737693Z",
     "iopub.status.idle": "2020-07-08T10:23:12.788644Z",
     "shell.execute_reply": "2020-07-08T10:23:12.785734Z",
     "shell.execute_reply.started": "2020-07-08T10:23:12.738333Z"
    }
   },
   "outputs": [
    {
     "data": {
      "text/html": [
       "<div>\n",
       "<style scoped>\n",
       "    .dataframe tbody tr th:only-of-type {\n",
       "        vertical-align: middle;\n",
       "    }\n",
       "\n",
       "    .dataframe tbody tr th {\n",
       "        vertical-align: top;\n",
       "    }\n",
       "\n",
       "    .dataframe thead th {\n",
       "        text-align: right;\n",
       "    }\n",
       "</style>\n",
       "<table border=\"1\" class=\"dataframe\">\n",
       "  <thead>\n",
       "    <tr style=\"text-align: right;\">\n",
       "      <th></th>\n",
       "      <th>avg_fitness</th>\n",
       "      <th>choromosome_size</th>\n",
       "      <th>crossover_prob</th>\n",
       "      <th>max_fitness</th>\n",
       "      <th>mutation_prob</th>\n",
       "      <th>n_generations</th>\n",
       "      <th>n_steps</th>\n",
       "      <th>pop_size</th>\n",
       "      <th>puzzle</th>\n",
       "      <th>time</th>\n",
       "    </tr>\n",
       "  </thead>\n",
       "  <tbody>\n",
       "    <tr>\n",
       "      <th>0</th>\n",
       "      <td>[0.0625, 0.059000000000000004, 0.0613, 0.069, ...</td>\n",
       "      <td>2.0</td>\n",
       "      <td>0.01</td>\n",
       "      <td>[0.0625, 0.0625, 0.0714, 0.0833, 0.0714, 0.083...</td>\n",
       "      <td>0.001</td>\n",
       "      <td>868.0</td>\n",
       "      <td>868.0</td>\n",
       "      <td>10.0</td>\n",
       "      <td>1.0</td>\n",
       "      <td>7.523650</td>\n",
       "    </tr>\n",
       "    <tr>\n",
       "      <th>1</th>\n",
       "      <td>[0.0771, 0.0786, 0.0871, 0.0921, 0.0864, 0.075...</td>\n",
       "      <td>2.0</td>\n",
       "      <td>0.01</td>\n",
       "      <td>[0.0833, 0.0833, 0.1, 0.1, 0.1, 0.1, 0.125, 0....</td>\n",
       "      <td>0.001</td>\n",
       "      <td>545.0</td>\n",
       "      <td>545.0</td>\n",
       "      <td>10.0</td>\n",
       "      <td>3.0</td>\n",
       "      <td>3.027362</td>\n",
       "    </tr>\n",
       "    <tr>\n",
       "      <th>2</th>\n",
       "      <td>[0.0556, 0.0535, 0.0568, 0.0622, 0.0605, 0.060...</td>\n",
       "      <td>2.0</td>\n",
       "      <td>0.01</td>\n",
       "      <td>[0.0556, 0.0625, 0.0625, 0.0714, 0.0714, 0.071...</td>\n",
       "      <td>0.001</td>\n",
       "      <td>726.0</td>\n",
       "      <td>726.0</td>\n",
       "      <td>10.0</td>\n",
       "      <td>4.0</td>\n",
       "      <td>5.282897</td>\n",
       "    </tr>\n",
       "  </tbody>\n",
       "</table>\n",
       "</div>"
      ],
      "text/plain": [
       "                                         avg_fitness  choromosome_size  \\\n",
       "0  [0.0625, 0.059000000000000004, 0.0613, 0.069, ...               2.0   \n",
       "1  [0.0771, 0.0786, 0.0871, 0.0921, 0.0864, 0.075...               2.0   \n",
       "2  [0.0556, 0.0535, 0.0568, 0.0622, 0.0605, 0.060...               2.0   \n",
       "\n",
       "   crossover_prob                                        max_fitness  \\\n",
       "0            0.01  [0.0625, 0.0625, 0.0714, 0.0833, 0.0714, 0.083...   \n",
       "1            0.01  [0.0833, 0.0833, 0.1, 0.1, 0.1, 0.1, 0.125, 0....   \n",
       "2            0.01  [0.0556, 0.0625, 0.0625, 0.0714, 0.0714, 0.071...   \n",
       "\n",
       "   mutation_prob  n_generations  n_steps  pop_size  puzzle      time  \n",
       "0          0.001          868.0    868.0      10.0     1.0  7.523650  \n",
       "1          0.001          545.0    545.0      10.0     3.0  3.027362  \n",
       "2          0.001          726.0    726.0      10.0     4.0  5.282897  "
      ]
     },
     "execution_count": 5,
     "metadata": {},
     "output_type": "execute_result"
    }
   ],
   "source": [
    "final_df"
   ]
  },
  {
   "cell_type": "code",
   "execution_count": null,
   "metadata": {},
   "outputs": [],
   "source": []
  }
 ],
 "metadata": {
  "kernelspec": {
   "display_name": "Python 3",
   "language": "python",
   "name": "python3"
  },
  "language_info": {
   "codemirror_mode": {
    "name": "ipython",
    "version": 3
   },
   "file_extension": ".py",
   "mimetype": "text/x-python",
   "name": "python",
   "nbconvert_exporter": "python",
   "pygments_lexer": "ipython3",
   "version": "3.8.2"
  }
 },
 "nbformat": 4,
 "nbformat_minor": 4
}
